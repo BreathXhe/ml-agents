{
 "cells": [
  {
   "cell_type": "markdown",
   "metadata": {},
   "source": [
    "# Unity ML Agents\n",
    "## Imitation Learning (Behavioral Cloning)"
   ]
  },
  {
   "cell_type": "markdown",
   "metadata": {},
   "source": [
    "### 1. Load dependencies"
   ]
  },
  {
   "cell_type": "code",
   "execution_count": null,
   "metadata": {
    "collapsed": true
   },
   "outputs": [],
   "source": [
    "import matplotlib.pyplot as plt\n",
    "import numpy as np\n",
    "import os\n",
    "import pickle\n",
    "import tensorflow as tf\n",
    "\n",
    "from unityagents import UnityEnvironment\n",
    "\n",
    "%matplotlib inline"
   ]
  },
  {
   "cell_type": "markdown",
   "metadata": {},
   "source": [
    "### 2. Set environment parameters"
   ]
  },
  {
   "cell_type": "code",
   "execution_count": null,
   "metadata": {
    "collapsed": true
   },
   "outputs": [],
   "source": [
    "env_name = \"WallBC\" # Name of the Unity environment binary to launch\n",
    "train_mode = True # Whether to run the environment in training or inference mode"
   ]
  },
  {
   "cell_type": "markdown",
   "metadata": {},
   "source": [
    "### 3. Start the environment"
   ]
  },
  {
   "cell_type": "code",
   "execution_count": null,
   "metadata": {
    "scrolled": false
   },
   "outputs": [],
   "source": [
    "env = UnityEnvironment(file_name=env_name)\n",
    "\n",
    "# Examine environment parameters\n",
    "print(str(env))"
   ]
  },
  {
   "cell_type": "code",
   "execution_count": null,
   "metadata": {
    "collapsed": true
   },
   "outputs": [],
   "source": [
    "brain_dict = env.reset(train_mode=False)\n",
    "E = brain_dict['BrainE']\n",
    "I = brain_dict['BrainI']\n",
    "\n",
    "brain_info = env.brains['BrainE']\n",
    "s_size = brain_info.state_space_size\n",
    "a_size = brain_info.action_space_size"
   ]
  },
  {
   "cell_type": "code",
   "execution_count": null,
   "metadata": {
    "collapsed": true
   },
   "outputs": [],
   "source": [
    "data_path = 'wall_human'"
   ]
  },
  {
   "cell_type": "markdown",
   "metadata": {},
   "source": [
    "### 4A. Collect Training Data"
   ]
  },
  {
   "cell_type": "code",
   "execution_count": null,
   "metadata": {
    "collapsed": true
   },
   "outputs": [],
   "source": [
    "num_steps = 2000"
   ]
  },
  {
   "cell_type": "code",
   "execution_count": null,
   "metadata": {},
   "outputs": [],
   "source": [
    "states = np.zeros([0, s_size])\n",
    "actions = np.zeros([0, 1])\n",
    "\n",
    "states = np.append(states, I.states, axis=0)"
   ]
  },
  {
   "cell_type": "code",
   "execution_count": null,
   "metadata": {
    "collapsed": true
   },
   "outputs": [],
   "source": [
    "for step in range(num_steps):\n",
    "    brain_dict = env.step(0)\n",
    "    E = brain_dict['BrainE']\n",
    "    I = brain_dict['BrainI']\n",
    "    actions = np.append(actions, I.previous_actions, axis=0)\n",
    "    if step < num_steps-1:\n",
    "        states = np.append(states, I.states, axis=0)"
   ]
  },
  {
   "cell_type": "code",
   "execution_count": null,
   "metadata": {},
   "outputs": [],
   "source": [
    "if not os.path.exists(data_path):\n",
    "    os.makedirs(data_path)\n",
    "\n",
    "save_data = {\"states\": states, \"actions\": actions}\n",
    "pickle.dump(save_data, open(data_path+\"/data.p\", \"wb\"))"
   ]
  },
  {
   "cell_type": "markdown",
   "metadata": {},
   "source": [
    "### 4B. Load Data"
   ]
  },
  {
   "cell_type": "code",
   "execution_count": null,
   "metadata": {
    "collapsed": true
   },
   "outputs": [],
   "source": [
    "save_data = pickle.load(open(data_path+\"/data.p\", \"rb\"))\n",
    "states = save_data[\"states\"]\n",
    "actions = save_data[\"actions\"]"
   ]
  },
  {
   "cell_type": "markdown",
   "metadata": {},
   "source": [
    "### 5. Train NN"
   ]
  },
  {
   "cell_type": "code",
   "execution_count": null,
   "metadata": {
    "collapsed": true
   },
   "outputs": [],
   "source": [
    "class ImitationNN(object):\n",
    "    def __init__(self, state_size, action_size, h_size, lr):\n",
    "        self.state = tf.placeholder(shape=[None, state_size], dtype=tf.float32)\n",
    "        self.h_1 = tf.layers.dense(self.state, h_size, activation=tf.nn.elu)\n",
    "        self.h_2 = tf.layers.dense(self.h_1, h_size, activation=tf.nn.elu)\n",
    "        self.h_3 = tf.layers.dense(self.h_2, h_size, activation=tf.nn.elu)\n",
    "        self.h_4 = tf.layers.dense(self.h_3, h_size, activation=tf.nn.elu)\n",
    "        self.h_4d = tf.layers.dropout(self.h_4, 0.5)\n",
    "        self.logits = tf.layers.dense(self.h_4d, action_size, activation=None)\n",
    "        self.action_probs = tf.nn.softmax(self.logits)\n",
    "        self.sample_action = tf.multinomial(self.logits, 1)\n",
    "        \n",
    "        self.action = tf.placeholder(shape=[None], dtype=tf.int32)\n",
    "        self.action_oh = tf.one_hot(self.action, action_size)\n",
    "        self.loss = tf.reduce_sum(-tf.log(self.action_probs + 1e-10)*self.action_oh)\n",
    "        \n",
    "        self.action_percent = tf.reduce_mean(tf.cast(\n",
    "            tf.equal(tf.cast(tf.argmax(self.action_probs, axis=1), tf.int32),\n",
    "                     self.action), tf.float32))\n",
    "\n",
    "        optimizer = tf.train.AdamOptimizer(learning_rate=lr)\n",
    "        self.update = optimizer.minimize(self.loss)"
   ]
  },
  {
   "cell_type": "code",
   "execution_count": null,
   "metadata": {
    "collapsed": true
   },
   "outputs": [],
   "source": [
    "tf.reset_default_graph()\n",
    "\n",
    "network = ImitationNN(s_size, a_size, 128, 1e-4)\n",
    "\n",
    "num_epoch = 100\n",
    "batch_size = 128\n",
    "test_episodes = 50"
   ]
  },
  {
   "cell_type": "code",
   "execution_count": null,
   "metadata": {
    "collapsed": true
   },
   "outputs": [],
   "source": [
    "sess = tf.InteractiveSession()\n",
    "init = tf.global_variables_initializer()"
   ]
  },
  {
   "cell_type": "code",
   "execution_count": null,
   "metadata": {
    "scrolled": false
   },
   "outputs": [],
   "source": [
    "losses = []\n",
    "percentages = []\n",
    "all_rewards = []\n",
    "\n",
    "sess.run(init)\n",
    "for i in range(num_epoch):\n",
    "    s = np.arange(len(states))\n",
    "    np.random.shuffle(s)\n",
    "    shuffle_states = states[s]\n",
    "    shuffle_actions = actions[s]\n",
    "    batch_losses = []\n",
    "    batch_percentages = []\n",
    "    for j in range(len(states)//batch_size):\n",
    "        batch_states = shuffle_states[j*batch_size:(j+1)*batch_size]\n",
    "        batch_actions = shuffle_actions[j*batch_size:(j+1)*batch_size]\n",
    "        feed_dict = {network.state: batch_states, network.action:np.reshape(batch_actions, -1)}\n",
    "        loss, percent, _ = sess.run([network.loss, network.action_percent, network.update], feed_dict=feed_dict)\n",
    "        batch_losses.append(loss)\n",
    "        batch_percentages.append(percent)\n",
    "    test_rewards = []\n",
    "    for j in range(test_episodes):\n",
    "        brain_dict = env.reset(train_mode=True)\n",
    "        E = brain_dict['BrainE']\n",
    "        rewards = 0\n",
    "        while not E.local_done[0]:\n",
    "            action = sess.run(network.sample_action, feed_dict={network.state:E.states})\n",
    "            E_1 = env.step(action[0][0])['BrainE']\n",
    "            rewards += E_1.rewards[0]\n",
    "            E = E_1\n",
    "        test_rewards.append(rewards)\n",
    "    print(\"Epoch Loss: {} -- Epoch Percent: {} -- Test Rewards: {} -- {}\"\n",
    "          .format(np.mean(batch_losses), np.mean(batch_percentages), np.mean(test_rewards), i))\n",
    "    losses.append(np.mean(batch_losses))\n",
    "    percentages.append(np.mean(batch_percentages))\n",
    "    all_rewards.append(np.mean(test_rewards))\n",
    "plt.plot(all_rewards)"
   ]
  },
  {
   "cell_type": "markdown",
   "metadata": {},
   "source": [
    "### 6. Close the environment when finished\n",
    "When we are finished using an environment, we can close it with the function below."
   ]
  },
  {
   "cell_type": "code",
   "execution_count": null,
   "metadata": {
    "collapsed": true
   },
   "outputs": [],
   "source": [
    "env.close()"
   ]
  }
 ],
 "metadata": {
  "anaconda-cloud": {},
  "kernelspec": {
   "display_name": "Python 3",
   "language": "python",
   "name": "python3"
  },
  "language_info": {
   "codemirror_mode": {
    "name": "ipython",
    "version": 3
   },
   "file_extension": ".py",
   "mimetype": "text/x-python",
   "name": "python",
   "nbconvert_exporter": "python",
   "pygments_lexer": "ipython3",
   "version": "3.6.2"
  }
 },
 "nbformat": 4,
 "nbformat_minor": 1
}
